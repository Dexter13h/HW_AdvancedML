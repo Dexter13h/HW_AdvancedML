{
 "cells": [
  {
   "cell_type": "markdown",
   "id": "d7510e5f",
   "metadata": {},
   "source": [
    "# Продвинутое машинное обучение: Домашнее задание 2"
   ]
  },
  {
   "cell_type": "markdown",
   "id": "3d524adf",
   "metadata": {},
   "source": [
    "#### MADE-DS-22, Вадим Сапцов "
   ]
  },
  {
   "cell_type": "markdown",
   "id": "2688a8a5",
   "metadata": {},
   "source": [
    "## 1. Исходные данные "
   ]
  },
  {
   "cell_type": "markdown",
   "id": "9ce8506e",
   "metadata": {},
   "source": [
    "Прочитайте и проанализируйте данные, выберите турниры, в которых есть данные о составах команд и повопросных результатах (поле mask в results.pkl). Тренировочный набор — турниры с dateStart из 2019 года; тестовый — турниры с dateStart из 2020 года."
   ]
  },
  {
   "cell_type": "code",
   "execution_count": 1,
   "id": "2e06ab12",
   "metadata": {},
   "outputs": [],
   "source": [
    "import json, pickle\n",
    "import pandas as pd\n",
    "import numpy as np\n",
    "from itertools import chain\n",
    "\n",
    "# Загрузка данных\n",
    "results = pickle.load(open('results.pkl', 'rb'))\n",
    "players = pd.DataFrame.from_dict(pickle.load(open('players.pkl', 'rb')), orient='index').set_index('id')\n",
    "tournaments = pd.DataFrame.from_dict(pickle.load(open('tournaments.pkl', 'rb')), orient='index').set_index('id')"
   ]
  },
  {
   "cell_type": "code",
   "execution_count": 2,
   "id": "101490b4",
   "metadata": {},
   "outputs": [],
   "source": [
    "# Разделяем тренировочную и тестовую выборку\n",
    "tournaments_2019 = tournaments[tournaments['dateStart'].str.startswith('2019-')]\n",
    "tournaments_2020 = tournaments[tournaments['dateStart'].str.startswith('2020-')]"
   ]
  },
  {
   "cell_type": "code",
   "execution_count": 3,
   "id": "c6ffc2fd",
   "metadata": {},
   "outputs": [],
   "source": [
    "# Объединяем данные в одном датафрейме\n",
    "tourn_list, player_list, team_list, mask_list, pos_list  = [], [], [], [], []\n",
    "\n",
    "for tourn_id in results:\n",
    "    all_ind = np.concatenate((tournaments_2019.index, tournaments_2020.index))\n",
    "    if (tourn_id in all_ind):\n",
    "        for team in results[tourn_id]:\n",
    "            if 'mask' in team:\n",
    "                mask = team['mask']\n",
    "                position = team['position']\n",
    "                team_id = team['team']['id']\n",
    "                for member in team['teamMembers']:\n",
    "                    tourn_list.append(tourn_id)\n",
    "                    mask_list.append(mask)\n",
    "                    pos_list.append(position)\n",
    "                    team_list.append(team_id)\n",
    "                    player_list.append(member['player']['id'])\n",
    "                    \n",
    "df = pd.DataFrame({'tournament': tourn_list,\n",
    "                   'team': team_list,\n",
    "                   'position': pos_list,\n",
    "                   'player': player_list,\n",
    "                   'mask': mask_list\n",
    "             })\n",
    "\n",
    "df = df[~df['mask'].isna()]\n",
    "df['mask_len'] = df['mask'].str.len()"
   ]
  },
  {
   "cell_type": "code",
   "execution_count": 4,
   "id": "37774d07",
   "metadata": {},
   "outputs": [],
   "source": [
    "# Отфильтровываем турниры с несовпадающими масками\n",
    "same_masks = df.groupby('tournament')['mask_len'].nunique().eq(1)\n",
    "same_masks = same_masks[same_masks]\n",
    "df = df[df['tournament'].isin(same_masks.index)]"
   ]
  },
  {
   "cell_type": "code",
   "execution_count": 5,
   "id": "44d51cd9",
   "metadata": {},
   "outputs": [],
   "source": [
    "# Разбиваем по вопросам, чистим от неопределенных ответов\n",
    "questions = []\n",
    "for lng in df['mask_len']:\n",
    "    questions.extend(np.arange(1, lng + 1))\n",
    "    \n",
    "all_questions = pd.DataFrame({\n",
    "    'tournament': np.repeat(df['tournament'], df['mask_len']),\n",
    "    'team': np.repeat(df['team'], df['mask_len']),\n",
    "    'position': np.repeat(df['position'], df['mask_len']),\n",
    "    'player': np.repeat(df['player'], df['mask_len']),\n",
    "    'quest_num': questions,\n",
    "    'correct_ans': list(chain.from_iterable(df['mask']))\n",
    "})\n",
    "all_questions['tourn_quest'] = all_questions['tournament'].astype(str) + '_' + all_questions['quest_num'].astype(str)\n",
    "\n",
    "bad_ans = all_questions[all_questions['correct_ans'].isin(['?', 'X'])]\n",
    "all_questions = all_questions[~all_questions['tourn_quest'].isin(bad_ans['tourn_quest'])]\n",
    "all_questions.loc[:, 'correct_ans'] = all_questions['correct_ans'].astype(int, copy=False)"
   ]
  },
  {
   "cell_type": "markdown",
   "id": "6b9f3d4d",
   "metadata": {},
   "source": [
    "## 2. Baseline-модель"
   ]
  },
  {
   "cell_type": "markdown",
   "id": "6f3f696c",
   "metadata": {},
   "source": [
    "Baseline-модель будем строить на основе логистической регрессии. Для построения модели примем, что результаты команды по каждому вопросу относятся к каждому из её игроков."
   ]
  },
  {
   "cell_type": "code",
   "execution_count": 7,
   "id": "58cfb956",
   "metadata": {},
   "outputs": [],
   "source": [
    "from sklearn.preprocessing import OneHotEncoder\n",
    "from sklearn.linear_model import LogisticRegression\n",
    "from sklearn.metrics import log_loss"
   ]
  },
  {
   "cell_type": "code",
   "execution_count": 8,
   "id": "68f4a1bc",
   "metadata": {},
   "outputs": [
    {
     "name": "stdout",
     "output_type": "stream",
     "text": [
      "Тренировочная выборка:  663 Тестовая выборка:  169\n"
     ]
    }
   ],
   "source": [
    "train = all_questions[all_questions['tournament'].isin(tournaments_2019.index.values)]\n",
    "test = all_questions[all_questions['tournament'].isin(tournaments_2020.index.values)]\n",
    "print('Тренировочная выборка: ', train['tournament'].nunique(),\n",
    "      'Тестовая выборка: ', test['tournament'].nunique())"
   ]
  },
  {
   "cell_type": "code",
   "execution_count": 9,
   "id": "f5a05283",
   "metadata": {},
   "outputs": [
    {
     "name": "stdout",
     "output_type": "stream",
     "text": [
      "(16126924, 87828) (4148096, 87828)\n"
     ]
    }
   ],
   "source": [
    "# Применяем one-hot преобразование\n",
    "enc = OneHotEncoder(handle_unknown='ignore')\n",
    "X_train = enc.fit_transform(train[['player', 'tourn_quest']])\n",
    "X_test = enc.transform(test[['player', 'tourn_quest']])\n",
    "\n",
    "y_train = train['correct_ans']\n",
    "y_test = test['correct_ans']\n",
    "\n",
    "print(X_train.shape, X_test.shape)"
   ]
  },
  {
   "cell_type": "code",
   "execution_count": 10,
   "id": "0917395b",
   "metadata": {},
   "outputs": [
    {
     "name": "stderr",
     "output_type": "stream",
     "text": [
      "D:\\work\\anaconda3\\lib\\site-packages\\sklearn\\linear_model\\_logistic.py:814: ConvergenceWarning: lbfgs failed to converge (status=1):\n",
      "STOP: TOTAL NO. of ITERATIONS REACHED LIMIT.\n",
      "\n",
      "Increase the number of iterations (max_iter) or scale the data as shown in:\n",
      "    https://scikit-learn.org/stable/modules/preprocessing.html\n",
      "Please also refer to the documentation for alternative solver options:\n",
      "    https://scikit-learn.org/stable/modules/linear_model.html#logistic-regression\n",
      "  n_iter_i = _check_optimize_result(\n"
     ]
    }
   ],
   "source": [
    "base_model = LogisticRegression()\n",
    "base_model.fit(X_train, y_train)\n",
    "\n",
    "preds = base_model.predict_proba(X_test)[:, 1]"
   ]
  },
  {
   "cell_type": "markdown",
   "id": "12ae5c62",
   "metadata": {},
   "source": [
    "## 3. Оценка качества"
   ]
  },
  {
   "cell_type": "markdown",
   "id": "43b3c34c",
   "metadata": {},
   "source": [
    "В качестве метрики качества на тестовом наборе считаем ранговые корреляции Спирмена и Кендалла между реальным ранжированием в результатах турнира и предсказанным моделью, усреднённые по тестовому множеству турниров.\n",
    "Если вероятность ответа каждого игрока в текущем турнире равна $p_i$, то общая вероятность для команды равна $p = 1 - \\prod_i (1 - p_i)$ "
   ]
  },
  {
   "cell_type": "code",
   "execution_count": 14,
   "id": "8b81e2ee",
   "metadata": {},
   "outputs": [],
   "source": [
    "from scipy.stats import spearmanr, kendalltau\n",
    "pd.options.mode.chained_assignment = None\n",
    "\n",
    "def corr_calc(pred_test):\n",
    "    pred_ranks = test[['tournament', 'team']]\n",
    "    pred_ranks['neg_pred'] = 1 - pred_test\n",
    "    pred_ranks = pred_ranks.groupby(['tournament', 'team']).prod().reset_index()\n",
    "    pred_ranks['position_pred'] = pred_ranks.groupby('tournament')['neg_pred'].rank('dense')\n",
    "    \n",
    "    true_ranks = test[['tournament', 'team', 'position']].drop_duplicates()\n",
    "    combined = pd.merge(pred_ranks, true_ranks, on=['tournament', 'team'])\n",
    "\n",
    "    # расчет и усреднение корреляций внутри каждого турнира\n",
    "    spearman_corr = []\n",
    "    kendall_corr = []\n",
    "    for tour in combined['tournament'].unique():\n",
    "        curr = combined[combined['tournament'] == tour]\n",
    "\n",
    "        if len(curr) > 1:\n",
    "            spearman_corr.append(spearmanr(curr['position'], curr['position_pred'])[0])\n",
    "            kendall_corr.append(kendalltau(curr['position'], curr['position_pred'])[0])\n",
    "    return np.mean(spearman_corr), np.mean(kendall_corr)"
   ]
  },
  {
   "cell_type": "code",
   "execution_count": 15,
   "id": "4e9c603a",
   "metadata": {},
   "outputs": [
    {
     "name": "stdout",
     "output_type": "stream",
     "text": [
      "К-т Кендалла: 0.5928306462319053    к-т Спирмена: 0.748055361429059\n"
     ]
    }
   ],
   "source": [
    "spearman_corr, kendall_corr = corr_calc(preds)\n",
    "print('К-т Кендалла:', kendall_corr, '   к-т Спирмена:', spearman_corr)"
   ]
  },
  {
   "cell_type": "markdown",
   "id": "9230e637",
   "metadata": {},
   "source": [
    "## 4. EM-схема"
   ]
  },
  {
   "cell_type": "markdown",
   "id": "25ac43fd",
   "metadata": {},
   "source": [
    "**E-шаг**: для заданных весов игроков и вопросов вычисляем ожидание скрытой переменной вероятности ответа игрока на вопрос при условии параметров модели и ответов.<br>\n",
    "\n",
    "**М-шаг**: минимизируем критерий log-loss, обучая логистическую регрессию. За начальное приближение возьмем предсказания логистической регрессии."
   ]
  },
  {
   "cell_type": "code",
   "execution_count": 16,
   "id": "5a06950f",
   "metadata": {},
   "outputs": [],
   "source": [
    "from scipy.special import logit, expit\n",
    "from sklearn.linear_model import LinearRegression\n",
    "from copy import deepcopy\n",
    "import warnings\n",
    "warnings.simplefilter(action='ignore', category=FutureWarning)"
   ]
  },
  {
   "cell_type": "code",
   "execution_count": 17,
   "id": "4d09f618",
   "metadata": {},
   "outputs": [
    {
     "name": "stdout",
     "output_type": "stream",
     "text": [
      "Шаг 1\n",
      "К-т Кендалла:  0.6177868949818319 к-т Спирмена: 0.7722388020880716\n",
      "Шаг 2\n",
      "К-т Кендалла:  0.6229168687149627 к-т Спирмена: 0.7790069686893311\n",
      "Шаг 3\n",
      "К-т Кендалла:  0.624561647497713 к-т Спирмена: 0.780312492300663\n",
      "Шаг 4\n",
      "К-т Кендалла:  0.6210403201617783 к-т Спирмена: 0.7769840520990466\n",
      "Шаг 5\n",
      "К-т Кендалла:  0.6197325778719255 к-т Спирмена: 0.7758603789107991\n"
     ]
    }
   ],
   "source": [
    "em_train = deepcopy(train)\n",
    "em_train['player_pred'] = base_model.predict_proba(X_train)[:, 1]\n",
    "em_model = LinearRegression()\n",
    "best_spearman = 0\n",
    "\n",
    "M = 5\n",
    "EPS = 1e-6\n",
    "for step in range(M):\n",
    "    # E-шаг\n",
    "    em_train['neg_pred'] = 1 - em_train['player_pred']\n",
    "    em_teams = 1 - em_train.groupby(['tournament', 'team', 'quest_num'])['neg_pred'].prod()\n",
    "    em_train = em_train.merge(em_teams.rename('team_pred'), left_on=['tournament', 'team', 'quest_num'], right_index=True)\n",
    "    em_train['hidden_var'] = em_train['player_pred'] / em_train['team_pred']\n",
    "    em_train['hidden_var'] = np.where(y_train == 0, 0, em_train['hidden_var'])\n",
    "    em_train['hidden_var'] = np.clip(em_train['hidden_var'], EPS, 1 - EPS)\n",
    "\n",
    "    # M-шаг \n",
    "    em_model.fit(X_train, logit(em_train['hidden_var']))\n",
    "    em_train['player_pred'] = expit(em_model.predict(X_train))\n",
    "    em_train = em_train.drop('team_pred',1)\n",
    "\n",
    "    # Качество\n",
    "    print('Шаг', step + 1)\n",
    "    pred_test = expit(em_model.predict(X_test))\n",
    "    spearman_corr, kendall_corr = corr_calc(pred_test)\n",
    "    if spearman_corr > best_spearman:\n",
    "        best_preds = pred_test\n",
    "        best_coefs = em_model.coef_\n",
    "\n",
    "    print('К-т Кендалла: ', kendall_corr, 'к-т Спирмена:', spearman_corr)"
   ]
  },
  {
   "cell_type": "markdown",
   "id": "376fbe9c",
   "metadata": {},
   "source": [
    "Целевые метрики вначале возрастают, но после трех шагов качество снижается. В итоге прирост метрики составил ок. 3 процентных пунктов."
   ]
  },
  {
   "cell_type": "markdown",
   "id": "f1da2e1f",
   "metadata": {},
   "source": [
    "## 5. Рейтинг-лист турниров"
   ]
  },
  {
   "cell_type": "code",
   "execution_count": 18,
   "id": "c5db7674",
   "metadata": {},
   "outputs": [],
   "source": [
    "# Сортируем по сложности вопросов (из коэффициентов обученной ЕМ-модели)\n",
    "question_weights = dict(zip(enc.categories_[1], best_coefs[:enc.categories_[1].shape[0]]))\n",
    "\n",
    "tournaments_ranking = train[['tournament', 'quest_num', 'tourn_quest']].drop_duplicates()\n",
    "tournaments_ranking['quest_weight'] = tournaments_ranking['tourn_quest'].map(question_weights)\n",
    "tournaments_ranking = tournaments_ranking.groupby('tournament')['quest_weight'].mean().reset_index()\n",
    "tournaments_ranking = tournaments_ranking.merge(tournaments[['name']], left_on='tournament', right_index=True)\n",
    "tournaments_ranking = tournaments_ranking.sort_values(by='quest_weight', ascending=False)"
   ]
  },
  {
   "cell_type": "code",
   "execution_count": 19,
   "id": "c17f195a",
   "metadata": {},
   "outputs": [
    {
     "data": {
      "text/html": [
       "<div>\n",
       "<style scoped>\n",
       "    .dataframe tbody tr th:only-of-type {\n",
       "        vertical-align: middle;\n",
       "    }\n",
       "\n",
       "    .dataframe tbody tr th {\n",
       "        vertical-align: top;\n",
       "    }\n",
       "\n",
       "    .dataframe thead th {\n",
       "        text-align: right;\n",
       "    }\n",
       "</style>\n",
       "<table border=\"1\" class=\"dataframe\">\n",
       "  <thead>\n",
       "    <tr style=\"text-align: right;\">\n",
       "      <th></th>\n",
       "      <th>tournament</th>\n",
       "      <th>quest_weight</th>\n",
       "      <th>name</th>\n",
       "    </tr>\n",
       "  </thead>\n",
       "  <tbody>\n",
       "    <tr>\n",
       "      <th>121</th>\n",
       "      <td>5402</td>\n",
       "      <td>3.312742</td>\n",
       "      <td>Триптих. Осень</td>\n",
       "    </tr>\n",
       "    <tr>\n",
       "      <th>96</th>\n",
       "      <td>5370</td>\n",
       "      <td>3.254601</td>\n",
       "      <td>Благородный Дон Синхрон</td>\n",
       "    </tr>\n",
       "    <tr>\n",
       "      <th>122</th>\n",
       "      <td>5404</td>\n",
       "      <td>3.204628</td>\n",
       "      <td>Кубок МТС</td>\n",
       "    </tr>\n",
       "    <tr>\n",
       "      <th>61</th>\n",
       "      <td>5275</td>\n",
       "      <td>3.133883</td>\n",
       "      <td>Январское диминуэндо</td>\n",
       "    </tr>\n",
       "    <tr>\n",
       "      <th>120</th>\n",
       "      <td>5401</td>\n",
       "      <td>3.097134</td>\n",
       "      <td>Триптих. Лето</td>\n",
       "    </tr>\n",
       "    <tr>\n",
       "      <th>65</th>\n",
       "      <td>5285</td>\n",
       "      <td>3.076730</td>\n",
       "      <td>Гусарская лига. II сезон. IV этап</td>\n",
       "    </tr>\n",
       "    <tr>\n",
       "      <th>97</th>\n",
       "      <td>5371</td>\n",
       "      <td>3.070517</td>\n",
       "      <td>Международный Карагандинский Синхрон</td>\n",
       "    </tr>\n",
       "    <tr>\n",
       "      <th>67</th>\n",
       "      <td>5303</td>\n",
       "      <td>3.019102</td>\n",
       "      <td>Мемориал Дмитрия Коноваленко</td>\n",
       "    </tr>\n",
       "    <tr>\n",
       "      <th>95</th>\n",
       "      <td>5369</td>\n",
       "      <td>3.003693</td>\n",
       "      <td>Благородный Дон</td>\n",
       "    </tr>\n",
       "    <tr>\n",
       "      <th>62</th>\n",
       "      <td>5276</td>\n",
       "      <td>2.997114</td>\n",
       "      <td>Уходящая натура</td>\n",
       "    </tr>\n",
       "    <tr>\n",
       "      <th>52</th>\n",
       "      <td>5204</td>\n",
       "      <td>2.988551</td>\n",
       "      <td>Из Минска с любовью. Этап 4.</td>\n",
       "    </tr>\n",
       "    <tr>\n",
       "      <th>37</th>\n",
       "      <td>5129</td>\n",
       "      <td>2.986628</td>\n",
       "      <td>Лига Сибири. V тур.</td>\n",
       "    </tr>\n",
       "    <tr>\n",
       "      <th>99</th>\n",
       "      <td>5374</td>\n",
       "      <td>2.949492</td>\n",
       "      <td>Улыбки зимней ночи</td>\n",
       "    </tr>\n",
       "    <tr>\n",
       "      <th>140</th>\n",
       "      <td>5423</td>\n",
       "      <td>2.946282</td>\n",
       "      <td>Кубок Ярослава Мудрого</td>\n",
       "    </tr>\n",
       "    <tr>\n",
       "      <th>17</th>\n",
       "      <td>5055</td>\n",
       "      <td>2.943327</td>\n",
       "      <td>Пятая октава: Тропик Козерога</td>\n",
       "    </tr>\n",
       "  </tbody>\n",
       "</table>\n",
       "</div>"
      ],
      "text/plain": [
       "     tournament  quest_weight                                  name\n",
       "121        5402      3.312742                        Триптих. Осень\n",
       "96         5370      3.254601               Благородный Дон Синхрон\n",
       "122        5404      3.204628                             Кубок МТС\n",
       "61         5275      3.133883                  Январское диминуэндо\n",
       "120        5401      3.097134                         Триптих. Лето\n",
       "65         5285      3.076730     Гусарская лига. II сезон. IV этап\n",
       "97         5371      3.070517  Международный Карагандинский Синхрон\n",
       "67         5303      3.019102          Мемориал Дмитрия Коноваленко\n",
       "95         5369      3.003693                       Благородный Дон\n",
       "62         5276      2.997114                       Уходящая натура\n",
       "52         5204      2.988551          Из Минска с любовью. Этап 4.\n",
       "37         5129      2.986628                   Лига Сибири. V тур.\n",
       "99         5374      2.949492                    Улыбки зимней ночи\n",
       "140        5423      2.946282                Кубок Ярослава Мудрого\n",
       "17         5055      2.943327         Пятая октава: Тропик Козерога"
      ]
     },
     "execution_count": 19,
     "metadata": {},
     "output_type": "execute_result"
    }
   ],
   "source": [
    "tournaments_ranking.head(15)"
   ]
  },
  {
   "cell_type": "code",
   "execution_count": 20,
   "id": "98da9895",
   "metadata": {},
   "outputs": [
    {
     "data": {
      "text/html": [
       "<div>\n",
       "<style scoped>\n",
       "    .dataframe tbody tr th:only-of-type {\n",
       "        vertical-align: middle;\n",
       "    }\n",
       "\n",
       "    .dataframe tbody tr th {\n",
       "        vertical-align: top;\n",
       "    }\n",
       "\n",
       "    .dataframe thead th {\n",
       "        text-align: right;\n",
       "    }\n",
       "</style>\n",
       "<table border=\"1\" class=\"dataframe\">\n",
       "  <thead>\n",
       "    <tr style=\"text-align: right;\">\n",
       "      <th></th>\n",
       "      <th>tournament</th>\n",
       "      <th>quest_weight</th>\n",
       "      <th>name</th>\n",
       "    </tr>\n",
       "  </thead>\n",
       "  <tbody>\n",
       "    <tr>\n",
       "      <th>543</th>\n",
       "      <td>5939</td>\n",
       "      <td>-2.075831</td>\n",
       "      <td>Чемпионат Мира. Этап 1. Группа В</td>\n",
       "    </tr>\n",
       "    <tr>\n",
       "      <th>557</th>\n",
       "      <td>5954</td>\n",
       "      <td>-2.139223</td>\n",
       "      <td>Школьная лига. II тур.</td>\n",
       "    </tr>\n",
       "    <tr>\n",
       "      <th>645</th>\n",
       "      <td>6131</td>\n",
       "      <td>-2.409808</td>\n",
       "      <td>ДР Земцовского</td>\n",
       "    </tr>\n",
       "    <tr>\n",
       "      <th>587</th>\n",
       "      <td>5995</td>\n",
       "      <td>-2.431661</td>\n",
       "      <td>Гран-при Славянки. 6 этап</td>\n",
       "    </tr>\n",
       "    <tr>\n",
       "      <th>569</th>\n",
       "      <td>5975</td>\n",
       "      <td>-2.850003</td>\n",
       "      <td>Чемпионат Минска. Лига Б. Тур первый</td>\n",
       "    </tr>\n",
       "    <tr>\n",
       "      <th>658</th>\n",
       "      <td>6161</td>\n",
       "      <td>-2.862135</td>\n",
       "      <td>Студенческий чемпионат Тюменской области</td>\n",
       "    </tr>\n",
       "    <tr>\n",
       "      <th>620</th>\n",
       "      <td>6071</td>\n",
       "      <td>-2.992938</td>\n",
       "      <td>Кубок Кольской АЭС</td>\n",
       "    </tr>\n",
       "    <tr>\n",
       "      <th>581</th>\n",
       "      <td>5989</td>\n",
       "      <td>-3.015722</td>\n",
       "      <td>Чемпионат Узбекистана</td>\n",
       "    </tr>\n",
       "    <tr>\n",
       "      <th>540</th>\n",
       "      <td>5936</td>\n",
       "      <td>-3.050166</td>\n",
       "      <td>Школьная лига. I тур.</td>\n",
       "    </tr>\n",
       "    <tr>\n",
       "      <th>622</th>\n",
       "      <td>6078</td>\n",
       "      <td>-3.206447</td>\n",
       "      <td>Гефест</td>\n",
       "    </tr>\n",
       "    <tr>\n",
       "      <th>626</th>\n",
       "      <td>6089</td>\n",
       "      <td>-3.400846</td>\n",
       "      <td>Чемпионат Абхазии</td>\n",
       "    </tr>\n",
       "    <tr>\n",
       "      <th>621</th>\n",
       "      <td>6074</td>\n",
       "      <td>-3.779691</td>\n",
       "      <td>Кубок содружества</td>\n",
       "    </tr>\n",
       "    <tr>\n",
       "      <th>624</th>\n",
       "      <td>6087</td>\n",
       "      <td>-3.781178</td>\n",
       "      <td>Игра в бисер</td>\n",
       "    </tr>\n",
       "    <tr>\n",
       "      <th>623</th>\n",
       "      <td>6086</td>\n",
       "      <td>-3.826768</td>\n",
       "      <td>Зеркало СамариУМа</td>\n",
       "    </tr>\n",
       "    <tr>\n",
       "      <th>625</th>\n",
       "      <td>6088</td>\n",
       "      <td>-4.086282</td>\n",
       "      <td>Из Еревана с любовью!</td>\n",
       "    </tr>\n",
       "  </tbody>\n",
       "</table>\n",
       "</div>"
      ],
      "text/plain": [
       "     tournament  quest_weight                                      name\n",
       "543        5939     -2.075831          Чемпионат Мира. Этап 1. Группа В\n",
       "557        5954     -2.139223                    Школьная лига. II тур.\n",
       "645        6131     -2.409808                            ДР Земцовского\n",
       "587        5995     -2.431661                 Гран-при Славянки. 6 этап\n",
       "569        5975     -2.850003      Чемпионат Минска. Лига Б. Тур первый\n",
       "658        6161     -2.862135  Студенческий чемпионат Тюменской области\n",
       "620        6071     -2.992938                        Кубок Кольской АЭС\n",
       "581        5989     -3.015722                     Чемпионат Узбекистана\n",
       "540        5936     -3.050166                     Школьная лига. I тур.\n",
       "622        6078     -3.206447                                    Гефест\n",
       "626        6089     -3.400846                         Чемпионат Абхазии\n",
       "621        6074     -3.779691                         Кубок содружества\n",
       "624        6087     -3.781178                              Игра в бисер\n",
       "623        6086     -3.826768                         Зеркало СамариУМа\n",
       "625        6088     -4.086282                     Из Еревана с любовью!"
      ]
     },
     "execution_count": 20,
     "metadata": {},
     "output_type": "execute_result"
    }
   ],
   "source": [
    "tournaments_ranking.tail(15)"
   ]
  }
 ],
 "metadata": {
  "kernelspec": {
   "display_name": "Python 3 (ipykernel)",
   "language": "python",
   "name": "python3"
  },
  "language_info": {
   "codemirror_mode": {
    "name": "ipython",
    "version": 3
   },
   "file_extension": ".py",
   "mimetype": "text/x-python",
   "name": "python",
   "nbconvert_exporter": "python",
   "pygments_lexer": "ipython3",
   "version": "3.8.8"
  }
 },
 "nbformat": 4,
 "nbformat_minor": 5
}
